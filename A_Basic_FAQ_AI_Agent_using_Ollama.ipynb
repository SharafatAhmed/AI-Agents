{
  "nbformat": 4,
  "nbformat_minor": 0,
  "metadata": {
    "colab": {
      "provenance": [],
      "authorship_tag": "ABX9TyMzIwXhFixT092l8FdRvnJh",
      "include_colab_link": true
    },
    "kernelspec": {
      "name": "python3",
      "display_name": "Python 3"
    },
    "language_info": {
      "name": "python"
    }
  },
  "cells": [
    {
      "cell_type": "markdown",
      "metadata": {
        "id": "view-in-github",
        "colab_type": "text"
      },
      "source": [
        "<a href=\"https://colab.research.google.com/github/SharafatAhmed/AI-Agents/blob/main/A_Basic_FAQ_AI_Agent_using_Ollama.ipynb\" target=\"_parent\"><img src=\"https://colab.research.google.com/assets/colab-badge.svg\" alt=\"Open In Colab\"/></a>"
      ]
    },
    {
      "cell_type": "code",
      "execution_count": 1,
      "metadata": {
        "colab": {
          "base_uri": "https://localhost:8080/"
        },
        "collapsed": true,
        "id": "Ch4myDyMX_bp",
        "outputId": "152b8001-5fa1-4463-b64c-cd84e39695d6"
      },
      "outputs": [
        {
          "output_type": "stream",
          "name": "stdout",
          "text": [
            ">>> Installing ollama to /usr/local\n",
            ">>> Downloading Linux amd64 bundle\n",
            "######################################################################## 100.0%\n",
            ">>> Creating ollama user...\n",
            ">>> Adding ollama user to video group...\n",
            ">>> Adding current user to ollama group...\n",
            ">>> Creating ollama systemd service...\n",
            "\u001b[1m\u001b[31mWARNING:\u001b[m systemd is not running\n",
            "\u001b[1m\u001b[31mWARNING:\u001b[m Unable to detect NVIDIA/AMD GPU. Install lspci or lshw to automatically detect and install GPU dependencies.\n",
            ">>> The Ollama API is now available at 127.0.0.1:11434.\n",
            ">>> Install complete. Run \"ollama\" from the command line.\n",
            "Error: ollama server not responding - could not connect to ollama server, run 'ollama serve' to start it\n"
          ]
        }
      ],
      "source": [
        "!curl -fsSL https://ollama.com/install.sh | sh\n",
        "!nohup ollama serve > output.log 2>&1 &\n",
        "!ollama pull phi4"
      ]
    },
    {
      "cell_type": "code",
      "source": [
        "!pip install ollama"
      ],
      "metadata": {
        "colab": {
          "base_uri": "https://localhost:8080/"
        },
        "collapsed": true,
        "id": "qSOTemTTYXKw",
        "outputId": "9a9b48d9-8251-4065-a487-01a5bfb0faad"
      },
      "execution_count": 2,
      "outputs": [
        {
          "output_type": "stream",
          "name": "stdout",
          "text": [
            "Collecting ollama\n",
            "  Downloading ollama-0.5.3-py3-none-any.whl.metadata (4.3 kB)\n",
            "Requirement already satisfied: httpx>=0.27 in /usr/local/lib/python3.12/dist-packages (from ollama) (0.28.1)\n",
            "Requirement already satisfied: pydantic>=2.9 in /usr/local/lib/python3.12/dist-packages (from ollama) (2.11.7)\n",
            "Requirement already satisfied: anyio in /usr/local/lib/python3.12/dist-packages (from httpx>=0.27->ollama) (4.10.0)\n",
            "Requirement already satisfied: certifi in /usr/local/lib/python3.12/dist-packages (from httpx>=0.27->ollama) (2025.8.3)\n",
            "Requirement already satisfied: httpcore==1.* in /usr/local/lib/python3.12/dist-packages (from httpx>=0.27->ollama) (1.0.9)\n",
            "Requirement already satisfied: idna in /usr/local/lib/python3.12/dist-packages (from httpx>=0.27->ollama) (3.10)\n",
            "Requirement already satisfied: h11>=0.16 in /usr/local/lib/python3.12/dist-packages (from httpcore==1.*->httpx>=0.27->ollama) (0.16.0)\n",
            "Requirement already satisfied: annotated-types>=0.6.0 in /usr/local/lib/python3.12/dist-packages (from pydantic>=2.9->ollama) (0.7.0)\n",
            "Requirement already satisfied: pydantic-core==2.33.2 in /usr/local/lib/python3.12/dist-packages (from pydantic>=2.9->ollama) (2.33.2)\n",
            "Requirement already satisfied: typing-extensions>=4.12.2 in /usr/local/lib/python3.12/dist-packages (from pydantic>=2.9->ollama) (4.15.0)\n",
            "Requirement already satisfied: typing-inspection>=0.4.0 in /usr/local/lib/python3.12/dist-packages (from pydantic>=2.9->ollama) (0.4.1)\n",
            "Requirement already satisfied: sniffio>=1.1 in /usr/local/lib/python3.12/dist-packages (from anyio->httpx>=0.27->ollama) (1.3.1)\n",
            "Downloading ollama-0.5.3-py3-none-any.whl (13 kB)\n",
            "Installing collected packages: ollama\n",
            "Successfully installed ollama-0.5.3\n"
          ]
        }
      ]
    },
    {
      "cell_type": "code",
      "source": [
        "!pip install ollama langchain langchain-community rapidfuzz\n"
      ],
      "metadata": {
        "colab": {
          "base_uri": "https://localhost:8080/"
        },
        "collapsed": true,
        "id": "yI8h7fOEYfgf",
        "outputId": "f2855ccb-f7c3-4c8d-d1cb-8084285a15f5"
      },
      "execution_count": 3,
      "outputs": [
        {
          "output_type": "stream",
          "name": "stdout",
          "text": [
            "Requirement already satisfied: ollama in /usr/local/lib/python3.12/dist-packages (0.5.3)\n",
            "Requirement already satisfied: langchain in /usr/local/lib/python3.12/dist-packages (0.3.27)\n",
            "Collecting langchain-community\n",
            "  Downloading langchain_community-0.3.29-py3-none-any.whl.metadata (2.9 kB)\n",
            "Collecting rapidfuzz\n",
            "  Downloading rapidfuzz-3.14.0-cp312-cp312-manylinux_2_27_x86_64.manylinux_2_28_x86_64.whl.metadata (12 kB)\n",
            "Requirement already satisfied: httpx>=0.27 in /usr/local/lib/python3.12/dist-packages (from ollama) (0.28.1)\n",
            "Requirement already satisfied: pydantic>=2.9 in /usr/local/lib/python3.12/dist-packages (from ollama) (2.11.7)\n",
            "Requirement already satisfied: langchain-core<1.0.0,>=0.3.72 in /usr/local/lib/python3.12/dist-packages (from langchain) (0.3.75)\n",
            "Requirement already satisfied: langchain-text-splitters<1.0.0,>=0.3.9 in /usr/local/lib/python3.12/dist-packages (from langchain) (0.3.11)\n",
            "Requirement already satisfied: langsmith>=0.1.17 in /usr/local/lib/python3.12/dist-packages (from langchain) (0.4.23)\n",
            "Requirement already satisfied: SQLAlchemy<3,>=1.4 in /usr/local/lib/python3.12/dist-packages (from langchain) (2.0.43)\n",
            "Requirement already satisfied: requests<3,>=2 in /usr/local/lib/python3.12/dist-packages (from langchain) (2.32.4)\n",
            "Requirement already satisfied: PyYAML>=5.3 in /usr/local/lib/python3.12/dist-packages (from langchain) (6.0.2)\n",
            "Collecting requests<3,>=2 (from langchain)\n",
            "  Downloading requests-2.32.5-py3-none-any.whl.metadata (4.9 kB)\n",
            "Requirement already satisfied: aiohttp<4.0.0,>=3.8.3 in /usr/local/lib/python3.12/dist-packages (from langchain-community) (3.12.15)\n",
            "Requirement already satisfied: tenacity!=8.4.0,<10,>=8.1.0 in /usr/local/lib/python3.12/dist-packages (from langchain-community) (8.5.0)\n",
            "Collecting dataclasses-json<0.7,>=0.6.7 (from langchain-community)\n",
            "  Downloading dataclasses_json-0.6.7-py3-none-any.whl.metadata (25 kB)\n",
            "Requirement already satisfied: pydantic-settings<3.0.0,>=2.10.1 in /usr/local/lib/python3.12/dist-packages (from langchain-community) (2.10.1)\n",
            "Requirement already satisfied: httpx-sse<1.0.0,>=0.4.0 in /usr/local/lib/python3.12/dist-packages (from langchain-community) (0.4.1)\n",
            "Requirement already satisfied: numpy>=1.26.2 in /usr/local/lib/python3.12/dist-packages (from langchain-community) (2.0.2)\n",
            "Requirement already satisfied: aiohappyeyeballs>=2.5.0 in /usr/local/lib/python3.12/dist-packages (from aiohttp<4.0.0,>=3.8.3->langchain-community) (2.6.1)\n",
            "Requirement already satisfied: aiosignal>=1.4.0 in /usr/local/lib/python3.12/dist-packages (from aiohttp<4.0.0,>=3.8.3->langchain-community) (1.4.0)\n",
            "Requirement already satisfied: attrs>=17.3.0 in /usr/local/lib/python3.12/dist-packages (from aiohttp<4.0.0,>=3.8.3->langchain-community) (25.3.0)\n",
            "Requirement already satisfied: frozenlist>=1.1.1 in /usr/local/lib/python3.12/dist-packages (from aiohttp<4.0.0,>=3.8.3->langchain-community) (1.7.0)\n",
            "Requirement already satisfied: multidict<7.0,>=4.5 in /usr/local/lib/python3.12/dist-packages (from aiohttp<4.0.0,>=3.8.3->langchain-community) (6.6.4)\n",
            "Requirement already satisfied: propcache>=0.2.0 in /usr/local/lib/python3.12/dist-packages (from aiohttp<4.0.0,>=3.8.3->langchain-community) (0.3.2)\n",
            "Requirement already satisfied: yarl<2.0,>=1.17.0 in /usr/local/lib/python3.12/dist-packages (from aiohttp<4.0.0,>=3.8.3->langchain-community) (1.20.1)\n",
            "Collecting marshmallow<4.0.0,>=3.18.0 (from dataclasses-json<0.7,>=0.6.7->langchain-community)\n",
            "  Downloading marshmallow-3.26.1-py3-none-any.whl.metadata (7.3 kB)\n",
            "Collecting typing-inspect<1,>=0.4.0 (from dataclasses-json<0.7,>=0.6.7->langchain-community)\n",
            "  Downloading typing_inspect-0.9.0-py3-none-any.whl.metadata (1.5 kB)\n",
            "Requirement already satisfied: anyio in /usr/local/lib/python3.12/dist-packages (from httpx>=0.27->ollama) (4.10.0)\n",
            "Requirement already satisfied: certifi in /usr/local/lib/python3.12/dist-packages (from httpx>=0.27->ollama) (2025.8.3)\n",
            "Requirement already satisfied: httpcore==1.* in /usr/local/lib/python3.12/dist-packages (from httpx>=0.27->ollama) (1.0.9)\n",
            "Requirement already satisfied: idna in /usr/local/lib/python3.12/dist-packages (from httpx>=0.27->ollama) (3.10)\n",
            "Requirement already satisfied: h11>=0.16 in /usr/local/lib/python3.12/dist-packages (from httpcore==1.*->httpx>=0.27->ollama) (0.16.0)\n",
            "Requirement already satisfied: jsonpatch<2.0,>=1.33 in /usr/local/lib/python3.12/dist-packages (from langchain-core<1.0.0,>=0.3.72->langchain) (1.33)\n",
            "Requirement already satisfied: typing-extensions>=4.7 in /usr/local/lib/python3.12/dist-packages (from langchain-core<1.0.0,>=0.3.72->langchain) (4.15.0)\n",
            "Requirement already satisfied: packaging>=23.2 in /usr/local/lib/python3.12/dist-packages (from langchain-core<1.0.0,>=0.3.72->langchain) (25.0)\n",
            "Requirement already satisfied: orjson>=3.9.14 in /usr/local/lib/python3.12/dist-packages (from langsmith>=0.1.17->langchain) (3.11.3)\n",
            "Requirement already satisfied: requests-toolbelt>=1.0.0 in /usr/local/lib/python3.12/dist-packages (from langsmith>=0.1.17->langchain) (1.0.0)\n",
            "Requirement already satisfied: zstandard>=0.23.0 in /usr/local/lib/python3.12/dist-packages (from langsmith>=0.1.17->langchain) (0.24.0)\n",
            "Requirement already satisfied: annotated-types>=0.6.0 in /usr/local/lib/python3.12/dist-packages (from pydantic>=2.9->ollama) (0.7.0)\n",
            "Requirement already satisfied: pydantic-core==2.33.2 in /usr/local/lib/python3.12/dist-packages (from pydantic>=2.9->ollama) (2.33.2)\n",
            "Requirement already satisfied: typing-inspection>=0.4.0 in /usr/local/lib/python3.12/dist-packages (from pydantic>=2.9->ollama) (0.4.1)\n",
            "Requirement already satisfied: python-dotenv>=0.21.0 in /usr/local/lib/python3.12/dist-packages (from pydantic-settings<3.0.0,>=2.10.1->langchain-community) (1.1.1)\n",
            "Requirement already satisfied: charset_normalizer<4,>=2 in /usr/local/lib/python3.12/dist-packages (from requests<3,>=2->langchain) (3.4.3)\n",
            "Requirement already satisfied: urllib3<3,>=1.21.1 in /usr/local/lib/python3.12/dist-packages (from requests<3,>=2->langchain) (2.5.0)\n",
            "Requirement already satisfied: greenlet>=1 in /usr/local/lib/python3.12/dist-packages (from SQLAlchemy<3,>=1.4->langchain) (3.2.4)\n",
            "Requirement already satisfied: jsonpointer>=1.9 in /usr/local/lib/python3.12/dist-packages (from jsonpatch<2.0,>=1.33->langchain-core<1.0.0,>=0.3.72->langchain) (3.0.0)\n",
            "Collecting mypy-extensions>=0.3.0 (from typing-inspect<1,>=0.4.0->dataclasses-json<0.7,>=0.6.7->langchain-community)\n",
            "  Downloading mypy_extensions-1.1.0-py3-none-any.whl.metadata (1.1 kB)\n",
            "Requirement already satisfied: sniffio>=1.1 in /usr/local/lib/python3.12/dist-packages (from anyio->httpx>=0.27->ollama) (1.3.1)\n",
            "Downloading langchain_community-0.3.29-py3-none-any.whl (2.5 MB)\n",
            "\u001b[2K   \u001b[90m━━━━━━━━━━━━━━━━━━━━━━━━━━━━━━━━━━━━━━━━\u001b[0m \u001b[32m2.5/2.5 MB\u001b[0m \u001b[31m25.8 MB/s\u001b[0m eta \u001b[36m0:00:00\u001b[0m\n",
            "\u001b[?25hDownloading rapidfuzz-3.14.0-cp312-cp312-manylinux_2_27_x86_64.manylinux_2_28_x86_64.whl (3.3 MB)\n",
            "\u001b[2K   \u001b[90m━━━━━━━━━━━━━━━━━━━━━━━━━━━━━━━━━━━━━━━━\u001b[0m \u001b[32m3.3/3.3 MB\u001b[0m \u001b[31m60.3 MB/s\u001b[0m eta \u001b[36m0:00:00\u001b[0m\n",
            "\u001b[?25hDownloading dataclasses_json-0.6.7-py3-none-any.whl (28 kB)\n",
            "Downloading requests-2.32.5-py3-none-any.whl (64 kB)\n",
            "\u001b[2K   \u001b[90m━━━━━━━━━━━━━━━━━━━━━━━━━━━━━━━━━━━━━━━━\u001b[0m \u001b[32m64.7/64.7 kB\u001b[0m \u001b[31m4.6 MB/s\u001b[0m eta \u001b[36m0:00:00\u001b[0m\n",
            "\u001b[?25hDownloading marshmallow-3.26.1-py3-none-any.whl (50 kB)\n",
            "\u001b[2K   \u001b[90m━━━━━━━━━━━━━━━━━━━━━━━━━━━━━━━━━━━━━━━━\u001b[0m \u001b[32m50.9/50.9 kB\u001b[0m \u001b[31m3.5 MB/s\u001b[0m eta \u001b[36m0:00:00\u001b[0m\n",
            "\u001b[?25hDownloading typing_inspect-0.9.0-py3-none-any.whl (8.8 kB)\n",
            "Downloading mypy_extensions-1.1.0-py3-none-any.whl (5.0 kB)\n",
            "Installing collected packages: requests, rapidfuzz, mypy-extensions, marshmallow, typing-inspect, dataclasses-json, langchain-community\n",
            "  Attempting uninstall: requests\n",
            "    Found existing installation: requests 2.32.4\n",
            "    Uninstalling requests-2.32.4:\n",
            "      Successfully uninstalled requests-2.32.4\n",
            "\u001b[31mERROR: pip's dependency resolver does not currently take into account all the packages that are installed. This behaviour is the source of the following dependency conflicts.\n",
            "google-colab 1.0.0 requires requests==2.32.4, but you have requests 2.32.5 which is incompatible.\u001b[0m\u001b[31m\n",
            "\u001b[0mSuccessfully installed dataclasses-json-0.6.7 langchain-community-0.3.29 marshmallow-3.26.1 mypy-extensions-1.1.0 rapidfuzz-3.14.0 requests-2.32.5 typing-inspect-0.9.0\n"
          ]
        }
      ]
    },
    {
      "cell_type": "markdown",
      "source": [
        "rapidfuzz is used for fast fuzzy matching of user query to answer FAQ questions.\n",
        "\n",
        "langchain-community provides the ChatOllama wrapper used below"
      ],
      "metadata": {
        "id": "lWDRSC_QY3_4"
      }
    },
    {
      "cell_type": "code",
      "source": [
        "import json\n",
        "\n",
        "faq = [\n",
        "    {\n",
        "        \"question\": \"What is EWUDA?\",\n",
        "        \"answer\": \"EWUDA (East West University Department Assistant) is a virtual assistant designed to answer student FAQs 24/7.\"\n",
        "    },\n",
        "    {\n",
        "        \"question\": \"What does EWUDA do?\",\n",
        "        \"answer\": \"EWUDA helps students by answering common department questions such as course advising, scholarships, office information, and reminders.\"\n",
        "    },\n",
        "    {\n",
        "        \"question\": \"When is the department officer available?\",\n",
        "        \"answer\": \"The department officer is available from 9:00 AM to 6:00 PM during office hours. Outside this time, EWUDA can help with FAQs.\"\n",
        "    },\n",
        "    {\n",
        "        \"question\": \"I am a new student. Where can I check my advisor name?\",\n",
        "        \"answer\": \"You can check your advisor’s name in your student portal under the profile section.\"\n",
        "    },\n",
        "    {\n",
        "        \"question\": \"What should I do if I didn’t get a course?\",\n",
        "        \"answer\": \"You should contact your advisor by email or visit during their office hours to resolve the issue.\"\n",
        "    },\n",
        "    {\n",
        "        \"question\": \"How do I contact my advisor?\",\n",
        "        \"answer\": \"You can find your advisor’s email and office room number in the student portal under advisor information.\"\n",
        "    },\n",
        "    {\n",
        "        \"question\": \"Where is the department office located?\",\n",
        "        \"answer\": \"The department office is located on the 5th floor, Room 507, of the main academic building.\"\n",
        "    },\n",
        "    {\n",
        "        \"question\": \"How can I apply for a scholarship?\",\n",
        "        \"answer\": \"You need to fill out the scholarship application form available on the university website and submit it to the financial aid office before the deadline.\"\n",
        "    },\n",
        "    {\n",
        "        \"question\": \"What documents are required for scholarship application?\",\n",
        "        \"answer\": \"You usually need your transcript, financial documents, and a completed scholarship form. Check the latest notice for specific requirements.\"\n",
        "    },\n",
        "    {\n",
        "        \"question\": \"How does EWUDA help with emails?\",\n",
        "        \"answer\": \"EWUDA can generate template replies for common student queries and assist in sending bulk updates to students.\"\n",
        "    },\n",
        "    {\n",
        "        \"question\": \"Can EWUDA send reminders for meetings?\",\n",
        "        \"answer\": \"Yes, EWUDA can schedule and send reminders to faculty and students about meetings or important deadlines.\"\n",
        "    },\n",
        "    {\n",
        "        \"question\": \"How does EWUDA prioritize emails?\",\n",
        "        \"answer\": \"EWUDA uses keywords like 'deadline' or 'urgent' along with sender type to sort emails into urgent and normal categories.\"\n",
        "    },\n",
        "    # Non-university / irrelevant questions: EWUDA will refuse these\n",
        "    {\n",
        "        \"question\": \"What's the weather today?\",\n",
        "        \"answer\": \"Sorry — EWUDA only answers university or department-related questions. For weather information, please use a weather app or website.\"\n",
        "    },\n",
        "    {\n",
        "        \"question\": \"Who won the cricket match yesterday?\",\n",
        "        \"answer\": \"EWUDA does not provide sports or general news updates. Please check a sports news website or app for match results.\"\n",
        "    },\n",
        "    {\n",
        "        \"question\": \"Can you give me medical advice for a headache?\",\n",
        "        \"answer\": \"EWUDA cannot provide medical advice. For health concerns, contact a qualified healthcare professional or campus health services.\"\n",
        "    },\n",
        "    {\n",
        "        \"question\": \"Recommend a movie to watch tonight\",\n",
        "        \"answer\": \"EWUDA only helps with department and university-related matters. For entertainment recommendations, please try a movie/streaming service or entertainment forum.\"\n",
        "    }\n",
        "]\n",
        "\n",
        "with open(\"faq.json\", \"w\", encoding=\"utf-8\") as f:\n",
        "    json.dump(faq, f, indent=2, ensure_ascii=False)\n",
        "\n",
        "print(\"faq.json written with\", len(faq), \"entries for EWUDA assistant.\")\n"
      ],
      "metadata": {
        "colab": {
          "base_uri": "https://localhost:8080/"
        },
        "id": "cxm2EyHlZCkY",
        "outputId": "991cc1f4-a352-4527-aee1-a1c7d7a8d76e"
      },
      "execution_count": 4,
      "outputs": [
        {
          "output_type": "stream",
          "name": "stdout",
          "text": [
            "faq.json written with 16 entries for EWUDA assistant.\n"
          ]
        }
      ]
    },
    {
      "cell_type": "code",
      "source": [
        "import json\n",
        "from rapidfuzz import process, fuzz\n",
        "\n",
        "# Load FAQ from JSON file created in Cell 3\n",
        "with open(\"faq.json\", \"r\", encoding=\"utf-8\") as f:\n",
        "    faq = json.load(f)\n",
        "\n",
        "questions = [q[\"question\"] for q in faq]\n",
        "\n",
        "# Retrieval function: top-k fuzzy matches and scores\n",
        "def get_top_matches(user_query, k=3, scorer=fuzz.QRatio):\n",
        "    # returns list of tuples (matched_question, score, index)\n",
        "    results = process.extract(user_query, questions, scorer=scorer, limit=k)\n",
        "    return results\n",
        "\n",
        "# Build an in-context prompt from top matched examples\n",
        "def build_icl_prompt(\n",
        "    examples,\n",
        "    user_question,\n",
        "    instruction=(\n",
        "        \"You are EWUDA (East West University Department Assistant), a helpful assistant \"\n",
        "        \"that answers student FAQs 24/7. Always stay polite and concise.\\n\"\n",
        "        \"Answer the user question based on the examples. \"\n",
        "        \"If none are relevant, reply exactly: \"\n",
        "        \"'I’m EWUDA. I don’t know the answer to that. Please refine your question or \"\n",
        "        \"contact the department officer during 9:00 AM – 6:00 PM office hours.'\"\n",
        "    )\n",
        "):\n",
        "    prompt = instruction.strip() + \"\\n\\n\"\n",
        "    prompt += \"Here are example FAQs:\\n\\n\"\n",
        "    for ex in examples:\n",
        "        prompt += f\"Q: {ex['question']}\\nA: {ex['answer']}\\n\\n\"\n",
        "    prompt += f\"User question: {user_question}\\nA:\"\n",
        "    return prompt\n"
      ],
      "metadata": {
        "id": "gzlnxE7fjeOF"
      },
      "execution_count": 5,
      "outputs": []
    },
    {
      "cell_type": "code",
      "source": [
        "import re\n",
        "\n",
        "# List of irrelevant topic keywords (expand as needed)\n",
        "irrelevant_keywords = [\n",
        "    \"weather\", \"food\", \"movie\", \"sports\", \"music\", \"football\", \"cricket\",\n",
        "    \"politics\", \"game\", \"recipe\", \"song\", \"travel\", \"news\", \"shopping\"\n",
        "]\n",
        "\n",
        "def is_irrelevant(query: str) -> bool:\n",
        "    q = query.lower()\n",
        "    return any(word in q for word in irrelevant_keywords)\n",
        "\n",
        "def answer_question(user_query, threshold=60):\n",
        "    # 1. Check if irrelevant first\n",
        "    if is_irrelevant(user_query):\n",
        "        return (\"I’m EWUDA. I only answer questions related to East West University \"\n",
        "                \"department matters (courses, advisors, scholarships, office info, etc.). \"\n",
        "                \"For other topics, please use a general search engine.\")\n",
        "\n",
        "    # 2. Get matches from FAQ\n",
        "    matches = get_top_matches(user_query, k=3)\n",
        "    top_q, top_score, top_index = matches[0]\n",
        "\n",
        "    if top_score < threshold:\n",
        "        return (\"I’m EWUDA. I don’t know the answer to that. \"\n",
        "                \"Please refine your question or contact the department officer \"\n",
        "                \"during 9:00 AM – 6:00 PM office hours.\")\n",
        "\n",
        "    # 3. Build prompt using top examples\n",
        "    top_examples = [faq[m[2]] for m in matches]\n",
        "    prompt = build_icl_prompt(top_examples, user_query)\n",
        "\n",
        "    # Here we just simulate model output by selecting the closest FAQ answer\n",
        "    return faq[top_index][\"answer\"]\n"
      ],
      "metadata": {
        "id": "D98xfh0DjgMV"
      },
      "execution_count": 6,
      "outputs": []
    },
    {
      "cell_type": "code",
      "source": [
        "# Test with relevant queries\n",
        "print(\"Q: I am a new student, where do I check my advisor name?\")\n",
        "print(\"A:\", answer_question(\"I am a new student, where do I check my advisor name?\"))\n",
        "print()\n",
        "\n",
        "print(\"Q: What should I do if I didn’t get a course?\")\n",
        "print(\"A:\", answer_question(\"What should I do if I didn’t get a course?\"))\n",
        "print()\n",
        "\n",
        "# Test with irrelevant query\n",
        "print(\"Q: What’s the weather today?\")\n",
        "print(\"A:\", answer_question(\"What’s the weather today?\"))\n",
        "print()\n",
        "\n",
        "# Test with weakly related / unknown query\n",
        "print(\"Q: How can I apply for library membership?\")\n",
        "print(\"A:\", answer_question(\"How can I apply for library membership?\"))\n"
      ],
      "metadata": {
        "colab": {
          "base_uri": "https://localhost:8080/"
        },
        "id": "9-BrYx01jlEl",
        "outputId": "ae38eb2a-2426-4bb5-dd42-5e1f12900a1d"
      },
      "execution_count": 7,
      "outputs": [
        {
          "output_type": "stream",
          "name": "stdout",
          "text": [
            "Q: I am a new student, where do I check my advisor name?\n",
            "A: You can check your advisor’s name in your student portal under the profile section.\n",
            "\n",
            "Q: What should I do if I didn’t get a course?\n",
            "A: You should contact your advisor by email or visit during their office hours to resolve the issue.\n",
            "\n",
            "Q: What’s the weather today?\n",
            "A: I’m EWUDA. I only answer questions related to East West University department matters (courses, advisors, scholarships, office info, etc.). For other topics, please use a general search engine.\n",
            "\n",
            "Q: How can I apply for library membership?\n",
            "A: You need to fill out the scholarship application form available on the university website and submit it to the financial aid office before the deadline.\n"
          ]
        }
      ]
    },
    {
      "cell_type": "code",
      "source": [
        "print(\"Welcome to EWUDA (East West University Department Assistant)\")\n",
        "print(\"Type 'exit' to quit.\\n\")\n",
        "\n",
        "while True:\n",
        "    user_q = input(\"You: \")\n",
        "    if user_q.lower().strip() in [\"exit\", \"quit\"]:\n",
        "        print(\"EWUDA: Goodbye! Have a nice day.\")\n",
        "        break\n",
        "    response = answer_question(user_q)\n",
        "    print(\"EWUDA:\", response)\n"
      ],
      "metadata": {
        "colab": {
          "base_uri": "https://localhost:8080/"
        },
        "id": "RuYMIYDYjp01",
        "outputId": "8f012370-1fdd-48bd-87d7-d451952709d1"
      },
      "execution_count": 10,
      "outputs": [
        {
          "output_type": "stream",
          "name": "stdout",
          "text": [
            "Welcome to EWUDA (East West University Department Assistant)\n",
            "Type 'exit' to quit.\n",
            "\n",
            "You: whats the weather today?\n",
            "EWUDA: I’m EWUDA. I only answer questions related to East West University department matters (courses, advisors, scholarships, office info, etc.). For other topics, please use a general search engine.\n",
            "You: exit\n",
            "EWUDA: Goodbye! Have a nice day.\n"
          ]
        }
      ]
    }
  ]
}